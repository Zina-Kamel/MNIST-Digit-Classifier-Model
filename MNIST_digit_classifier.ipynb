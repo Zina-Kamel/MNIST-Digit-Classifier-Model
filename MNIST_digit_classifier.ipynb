{
  "nbformat": 4,
  "nbformat_minor": 0,
  "metadata": {
    "colab": {
      "name": "MNIST digit classifier.ipynb",
      "provenance": [],
      "collapsed_sections": []
    },
    "kernelspec": {
      "name": "python3",
      "display_name": "Python 3"
    }
  },
  "cells": [
    {
      "cell_type": "code",
      "metadata": {
        "id": "JDPWLgzCHCwV"
      },
      "source": [
        "import numpy as np\n",
        "import matplotlib.pyplot as plt\n",
        "import torch"
      ],
      "execution_count": null,
      "outputs": []
    },
    {
      "cell_type": "code",
      "metadata": {
        "id": "_iMrKSGlHOoL"
      },
      "source": [
        "from torchvision import datasets,transforms as T\n",
        "\n",
        "transform = T.Compose([\n",
        "      T.ToTensor(),\n",
        "      T.Normalize((0.5), (0.5))\n",
        "])\n"
      ],
      "execution_count": null,
      "outputs": []
    },
    {
      "cell_type": "code",
      "metadata": {
        "id": "ZFMFACwNHk52"
      },
      "source": [
        "trainset = datasets.MNIST('MNIST_data/', download= True, train= True, transform = transform)\n",
        "testset = datasets.MNIST('MNIST_data/', download= True, train= False, transform = transform)"
      ],
      "execution_count": null,
      "outputs": []
    },
    {
      "cell_type": "code",
      "metadata": {
        "colab": {
          "base_uri": "https://localhost:8080/"
        },
        "id": "slI0A-rrH86x",
        "outputId": "92fcea7b-14d9-4a5f-c747-53a66cca0797"
      },
      "source": [
        "print('Size of the trainset: {}'.format(len(trainset)))\n",
        "print('Size of the testset: {}'.format(len(testset)))"
      ],
      "execution_count": null,
      "outputs": [
        {
          "output_type": "stream",
          "text": [
            "Size of the trainset: 60000\n",
            "Size of the testset: 10000\n"
          ],
          "name": "stdout"
        }
      ]
    },
    {
      "cell_type": "code",
      "metadata": {
        "colab": {
          "base_uri": "https://localhost:8080/",
          "height": 299
        },
        "id": "gPLA4xkqIMUo",
        "outputId": "f33d3a6e-2603-4a93-eeb2-30f8ec5773bb"
      },
      "source": [
        "index = 2\n",
        "image, label = trainset[index]\n",
        "plt.imshow(image.numpy().squeeze(), cmap = 'gray')\n",
        "plt.title(label)\n"
      ],
      "execution_count": null,
      "outputs": [
        {
          "output_type": "execute_result",
          "data": {
            "text/plain": [
              "Text(0.5, 1.0, '4')"
            ]
          },
          "metadata": {
            "tags": []
          },
          "execution_count": 23
        },
        {
          "output_type": "display_data",
          "data": {
            "image/png": "[encoded data removed]",
            "text/plain": [
              "<Figure size 432x288 with 1 Axes>"
            ]
          },
          "metadata": {
            "tags": [],
            "needs_background": "light"
          }
        }
      ]
    },
    {
      "cell_type": "code",
      "metadata": {
        "id": "FKQ0EMFkIoUz"
      },
      "source": [
        "#Task 2 : Splitting Dataset and Setting DataLoader Into Train,Test and Validation Set"
      ],
      "execution_count": null,
      "outputs": []
    },
    {
      "cell_type": "code",
      "metadata": {
        "id": "D2kSLTVkI9y5"
      },
      "source": [
        "from torch.utils.data import DataLoader\n",
        "from torch.utils.data.sampler import SubsetRandomSampler\n",
        "\n",
        "valid_size = 0.2\n",
        "num_train = len(trainset) #60000\n",
        "split = int(np.floor(valid_size*num_train)) #12000\n",
        "indices = list(range(num_train)) #[0,1,2,...59999]\n",
        "np.random.shuffle(indices)\n",
        "train_index, valid_index = indices[split:], indices[:split]"
      ],
      "execution_count": null,
      "outputs": []
    },
    {
      "cell_type": "code",
      "metadata": {
        "id": "ORR0nbfLNg7C"
      },
      "source": [
        "train_sampler = SubsetRandomSampler(train_index)\n",
        "valid_sampler = SubsetRandomSampler(valid_index)"
      ],
      "execution_count": null,
      "outputs": []
    },
    {
      "cell_type": "code",
      "metadata": {
        "id": "wpN8WniYN5Pf"
      },
      "source": [
        "train_loader = DataLoader(trainset,batch_size=64,sampler=train_sampler)\n",
        "valid_loader = DataLoader(trainset,batch_size=64,sampler=train_sampler)\n",
        "test_loader = DataLoader(testset,batch_size=64,shuffle=True)"
      ],
      "execution_count": null,
      "outputs": []
    },
    {
      "cell_type": "code",
      "metadata": {
        "colab": {
          "base_uri": "https://localhost:8080/"
        },
        "id": "uKaB95sROTng",
        "outputId": "fcc93769-c170-40ee-e1cc-f235a8b25973"
      },
      "source": [
        "dataiter = iter(train_loader)\n",
        "images,labels = dataiter.next()\n",
        "\n",
        "print(type(images))\n",
        "print(images.shape)\n",
        "print(labels.shape)"
      ],
      "execution_count": null,
      "outputs": [
        {
          "output_type": "stream",
          "text": [
            "<class 'torch.Tensor'>\n",
            "torch.Size([64, 1, 28, 28])\n",
            "torch.Size([64])\n"
          ],
          "name": "stdout"
        }
      ]
    },
    {
      "cell_type": "code",
      "metadata": {
        "colab": {
          "base_uri": "https://localhost:8080/"
        },
        "id": "zl3YnXNIOutY",
        "outputId": "9cfda486-df84-46b2-b905-f020a5ca2730"
      },
      "source": [
        "print('Batches in trainloader: {}'.format(len(train_loader)))\n",
        "print('Batches in validloader: {}'.format(len(valid_loader)))\n",
        "print('Batches in testloader: {}'.format(len(test_loader)))\n",
        "\n",
        "print('Examples in trainloader: {}'.format(len(train_loader.sampler)))\n",
        "print('Examples in validloader: {}'.format(len(valid_loader.sampler)))\n",
        "print('Examples in testloader: {}'.format(len(test_loader.sampler)))"
      ],
      "execution_count": null,
      "outputs": [
        {
          "output_type": "stream",
          "text": [
            "Batches in trainloader: 750\n",
            "Batches in validloader: 750\n",
            "Batches in testloader: 157\n",
            "Examples in trainloader: 48000\n",
            "Examples in validloader: 48000\n",
            "Examples in testloader: 10000\n"
          ],
          "name": "stdout"
        }
      ]
    },
    {
      "cell_type": "code",
      "metadata": {
        "id": "QoWh0opFPKM7"
      },
      "source": [
        "#Task 3 : Creating Neural Network or Model"
      ],
      "execution_count": null,
      "outputs": []
    },
    {
      "cell_type": "code",
      "metadata": {
        "id": "4yBdOBAXQOjB"
      },
      "source": [
        "from torch import nn\n",
        "import torch.nn.functional as F\n",
        "\n",
        "class Classifier(nn.Module):\n",
        "\n",
        "  def __init__(self):\n",
        "    super(Classifier,self).__init__()\n",
        "\n",
        "    self.linear1 = nn.Linear(784,256)\n",
        "    self.linear2 = nn.Linear(256,128)\n",
        "    self.linear3 = nn.Linear(128,10)\n",
        "\n",
        "    self.dropout = nn.Dropout(p = 0.4)\n",
        "\n",
        "  def forward(self,images):\n",
        "\n",
        "    images = images.view(images.shape[0], -1) #change image shape from (64,1,28,28) to (64, 1*28*28) which is (64,784)\n",
        "    z1 = self.linear1(images)\n",
        "    a1 = self.dropout(F.relu(z1))\n",
        "\n",
        "    z2 = self.linear2(a1)\n",
        "    a2 = self.dropout(F.relu(z2))\n",
        "\n",
        "    \n",
        "    z3 = self.linear3(a2)\n",
        "    a3 = F.log_softmax(z3, dim = 1)\n",
        "\n",
        "    return a3\n"
      ],
      "execution_count": null,
      "outputs": []
    },
    {
      "cell_type": "code",
      "metadata": {
        "id": "vl2MhL9XQO_x",
        "colab": {
          "base_uri": "https://localhost:8080/"
        },
        "outputId": "0981e943-bc07-45f4-88eb-da9030c7ea16"
      },
      "source": [
        "model = Classifier()\n",
        "model"
      ],
      "execution_count": null,
      "outputs": [
        {
          "output_type": "execute_result",
          "data": {
            "text/plain": [
              "Classifier(\n",
              "  (linear1): Linear(in_features=784, out_features=256, bias=True)\n",
              "  (linear2): Linear(in_features=256, out_features=128, bias=True)\n",
              "  (linear3): Linear(in_features=128, out_features=10, bias=True)\n",
              "  (dropout): Dropout(p=0.4, inplace=False)\n",
              ")"
            ]
          },
          "metadata": {
            "tags": []
          },
          "execution_count": 32
        }
      ]
    },
    {
      "cell_type": "code",
      "metadata": {
        "id": "zpNiTauLQPP5",
        "colab": {
          "base_uri": "https://localhost:8080/"
        },
        "outputId": "dbead035-cf23-42b7-b883-de15650a8615"
      },
      "source": [
        "from torchsummary import summary\n",
        "summary(model,input_size=(1,28,28))"
      ],
      "execution_count": null,
      "outputs": [
        {
          "output_type": "stream",
          "text": [
            "----------------------------------------------------------------\n",
            "        Layer (type)               Output Shape         Param #\n",
            "================================================================\n",
            "            Linear-1                  [-1, 256]         200,960\n",
            "           Dropout-2                  [-1, 256]               0\n",
            "            Linear-3                  [-1, 128]          32,896\n",
            "           Dropout-4                  [-1, 128]               0\n",
            "            Linear-5                   [-1, 10]           1,290\n",
            "================================================================\n",
            "Total params: 235,146\n",
            "Trainable params: 235,146\n",
            "Non-trainable params: 0\n",
            "----------------------------------------------------------------\n",
            "Input size (MB): 0.00\n",
            "Forward/backward pass size (MB): 0.01\n",
            "Params size (MB): 0.90\n",
            "Estimated Total Size (MB): 0.91\n",
            "----------------------------------------------------------------\n"
          ],
          "name": "stdout"
        }
      ]
    },
    {
      "cell_type": "code",
      "metadata": {
        "id": "gJBoIT3QQGRL"
      },
      "source": [
        "#Task 4 : Training Neural Network"
      ],
      "execution_count": null,
      "outputs": []
    },
    {
      "cell_type": "code",
      "metadata": {
        "id": "3VUY8xhiQQ6B"
      },
      "source": [
        "from torch import optim\n",
        "from utils import multiclass_accuracy,view_classify\n",
        "\n",
        "criterion = nn.NLLLoss()\n",
        "optimizer = optim.Adam(model.parameters(), lr=0.003)\n",
        "epochs = 10\n"
      ],
      "execution_count": null,
      "outputs": []
    },
    {
      "cell_type": "code",
      "metadata": {
        "id": "jCxQDFCtQRJh",
        "colab": {
          "base_uri": "https://localhost:8080/"
        },
        "outputId": "5e9b4e54-6a5d-4054-9702-dde45343f37d"
      },
      "source": [
        "for e in range(epochs):\n",
        "\n",
        "  train_loss = 0.0\n",
        "  valid_loss = 0.0\n",
        "  valid_acc = 0.0\n",
        "\n",
        "  model.train()\n",
        "\n",
        "  for images,labels in train_loader:\n",
        "\n",
        "    logps = model(images)\n",
        "    optimizer.zero_grad()\n",
        "    loss = criterion(logps,labels)\n",
        "    loss.backward()\n",
        "    optimizer.step()\n",
        "    train_loss += loss.item()\n",
        "\n",
        "  model.eval()\n",
        "\n",
        "  for images,labels in valid_loader:\n",
        "    logps = model(images)\n",
        "    ps = torch.exp(logps)\n",
        "    loss = criterion(logps,labels)\n",
        "    valid_acc += multiclass_accuracy(ps,labels)\n",
        "    valid_loss += loss.item()\n",
        "\n",
        "  train_loss = train_loss/len(train_loader)\n",
        "  valid_loss = valid_loss/len(valid_loader)\n",
        "  valid_acc = valid_acc/len(valid_loader)\n",
        "\n",
        "  print(\"Epoch : {} Train Loss : {:.4f} Valid Loss : {:.4f} Valid Acc : {}\".format(e+1, train_loss, valid_loss, valid_acc))"
      ],
      "execution_count": null,
      "outputs": [
        {
          "output_type": "stream",
          "text": [
            "Epoch : 1 Train Loss : 0.6097 Valid Loss : 0.2946 Valid Acc : 0.9087916612625122\n",
            "Epoch : 2 Train Loss : 0.4392 Valid Loss : 0.2545 Valid Acc : 0.9215624928474426\n",
            "Epoch : 3 Train Loss : 0.4057 Valid Loss : 0.2078 Valid Acc : 0.9384166598320007\n",
            "Epoch : 4 Train Loss : 0.3833 Valid Loss : 0.1824 Valid Acc : 0.9463750123977661\n",
            "Epoch : 5 Train Loss : 0.3702 Valid Loss : 0.1971 Valid Acc : 0.9421666860580444\n",
            "Epoch : 6 Train Loss : 0.3612 Valid Loss : 0.1687 Valid Acc : 0.9503958225250244\n",
            "Epoch : 7 Train Loss : 0.3500 Valid Loss : 0.1734 Valid Acc : 0.9465000033378601\n",
            "Epoch : 8 Train Loss : 0.3359 Valid Loss : 0.1644 Valid Acc : 0.953000009059906\n",
            "Epoch : 9 Train Loss : 0.3375 Valid Loss : 0.1819 Valid Acc : 0.9451249837875366\n",
            "Epoch : 10 Train Loss : 0.3357 Valid Loss : 0.1773 Valid Acc : 0.9481458067893982\n"
          ],
          "name": "stdout"
        }
      ]
    },
    {
      "cell_type": "code",
      "metadata": {
        "id": "IVGLB8iDQIhI"
      },
      "source": [
        "#Task 5 : Evaluating the model"
      ],
      "execution_count": null,
      "outputs": []
    },
    {
      "cell_type": "code",
      "metadata": {
        "id": "472COflVQRvJ",
        "colab": {
          "base_uri": "https://localhost:8080/"
        },
        "outputId": "a0688b02-268a-4e67-db04-d95a4917dd36"
      },
      "source": [
        "model.eval()\n",
        "\n",
        "test_loss = 0.0\n",
        "test_acc = 0.0\n",
        "\n",
        "for images,labels in test_loader:\n",
        "\n",
        "    logps = model(images)\n",
        "    ps = torch.exp(logps)\n",
        "    loss = criterion(logps,labels)\n",
        "    test_acc += multiclass_accuracy(ps,labels)\n",
        "    test_loss += loss.item()\n",
        "\n",
        "test_loss = test_loss/len(test_loader)\n",
        "test_acc = test_acc/len(test_loader)\n",
        "\n",
        "print(\"Test loss: {} Test accuracy: {}\".format(test_loss, test_acc))"
      ],
      "execution_count": null,
      "outputs": [
        {
          "output_type": "stream",
          "text": [
            "Test loss: 0.19107268038828662 Test accuracy: 0.9428741931915283\n"
          ],
          "name": "stdout"
        }
      ]
    },
    {
      "cell_type": "code",
      "metadata": {
        "id": "RbBX_qByQNFl",
        "colab": {
          "base_uri": "https://localhost:8080/",
          "height": 253
        },
        "outputId": "a015ebb6-3802-43ea-bc61-49ad900ad31b"
      },
      "source": [
        "dataiter = iter(test_loader)\n",
        "images,labels = dataiter.next()\n",
        "\n",
        "index = 7\n",
        "logps = model(images[index])\n",
        "ps = torch.exp(logps)\n",
        "\n",
        "view_classify(images[index],ps)"
      ],
      "execution_count": null,
      "outputs": [
        {
          "output_type": "display_data",
          "data": {
            "image/png": "[encoded data removed]",
            "text/plain": [
              "<Figure size 432x648 with 2 Axes>"
            ]
          },
          "metadata": {
            "tags": [],
            "needs_background": "light"
          }
        }
      ]
    }
  ]
}